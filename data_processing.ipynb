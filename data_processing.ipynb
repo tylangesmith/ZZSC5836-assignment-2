{
 "cells": [
  {
   "cell_type": "markdown",
   "metadata": {},
   "source": [
    "# Data Processing\n",
    "\n",
    "This notebook processes our abalone dataset and prepares it for modelling."
   ]
  },
  {
   "cell_type": "code",
   "execution_count": null,
   "metadata": {},
   "outputs": [],
   "source": [
    "import pandas as pd\n",
    "import altair as alt\n",
    "from sklearn.model_selection import train_test_split"
   ]
  },
  {
   "cell_type": "code",
   "execution_count": null,
   "metadata": {},
   "outputs": [],
   "source": [
    "# Lets ingest our data\n",
    "df = pd.read_csv(\n",
    "  'data/abalone.data',\n",
    "  names=[\n",
    "    'sex',\n",
    "    'length',\n",
    "    'diameter',\n",
    "    'height',\n",
    "    'whole_weight',\n",
    "    'shucked_weight',\n",
    "    'viscera_weight',\n",
    "    'shell_weight',\n",
    "    'rings'\n",
    "  ]\n",
    ")"
   ]
  },
  {
   "cell_type": "code",
   "execution_count": null,
   "metadata": {},
   "outputs": [],
   "source": [
    "# Lets take a quick look at our data\n",
    "df.head()"
   ]
  },
  {
   "cell_type": "code",
   "execution_count": null,
   "metadata": {},
   "outputs": [],
   "source": [
    "# What does the shape of our data look like?\n",
    "print(f'Our dataset has {df.shape[0]} rows and {df.shape[1]} columns')"
   ]
  },
  {
   "cell_type": "markdown",
   "metadata": {},
   "source": [
    "1. Clean the data (eg. convert M, F and I to 0, 1 and 2). You can do this with code or simple find and replace (2 Marks).\n",
    "\n",
    "`M = Male (0)`, `F = Female (1)`, `I = Infant (2)`"
   ]
  },
  {
   "cell_type": "code",
   "execution_count": null,
   "metadata": {},
   "outputs": [],
   "source": [
    "df['sex'] = df['sex'].map({'M': 0, 'F': 1, 'I': 2})\n",
    "df.head()"
   ]
  },
  {
   "cell_type": "markdown",
   "metadata": {},
   "source": [
    "2. Develop a correlation map using a heatmap and discuss major observations (2 Marks)."
   ]
  },
  {
   "cell_type": "code",
   "execution_count": null,
   "metadata": {},
   "outputs": [],
   "source": [
    "df.corr().style.background_gradient(cmap='coolwarm')"
   ]
  },
  {
   "cell_type": "markdown",
   "metadata": {},
   "source": [
    "From this correlation map we can observe the following:\n",
    "- A value of `1` indicates a perfect positive correlation, `0` indicates no correlation and `-1` indicates a perfect negative correlation.\n",
    "- We see a diagonal line of `1` values from the top left to the bottom right. This is expected as each variable is perfectly postively correlated with itself.\n",
    "- We see that all of thte size and weight features are strongly postively correlated with eachother, the strongest being between length and diameter with `0.986` and the weakest positve correlation between height and shucked weight being `0.775`\n",
    "- We see that the sex has a negative correlation between the rest of the columns, meaning that size and weight is larger for males and smaller for infants.\n",
    "- We also observe that most of the feature columns have a positive correlation with the number of rings except for sex, with shell weight and diameter having the strongest positive correlation being `0.628` and `0.575` respectively."
   ]
  },
  {
   "cell_type": "markdown",
   "metadata": {},
   "source": [
    "3. Pick two of the most correlated features (negative or positive) and create a scatter plot with ring-age. Discuss major observations (2 Marks). "
   ]
  },
  {
   "cell_type": "code",
   "execution_count": null,
   "metadata": {},
   "outputs": [],
   "source": [
    "# Again our 2 most correlated features with rings are shell_weight and diameter\n",
    "# Lets create a scatter plot visualisation of these vs rings\n",
    "\n",
    "# First create a scatter plot for shell_weight\n",
    "shell_weight_scatter = alt.Chart(df, title=\"Shell Weight vs Rings\").mark_circle().encode(\n",
    "  x=alt.X('shell_weight', title=\"Shell Weight (grams)\", scale=alt.Scale(domain=(0, 1.1))),\n",
    "  y=alt.Y('rings', title=\"Rings (count)\"),\n",
    "  color=alt.ColorValue('#7BB2D9')\n",
    ").properties(\n",
    "  width=480,\n",
    "  height=300\n",
    ")\n",
    "\n",
    "# Create a regression line for shell_weight\n",
    "shell_weight_scatter_regression = shell_weight_scatter.transform_regression(\n",
    "  'shell_weight',\n",
    "  'rings',\n",
    "  method='linear'\n",
    ").mark_line(strokeWidth=2.5).encode(\n",
    "  color=alt.ColorValue('#FFDC00'),\n",
    "  opacity=alt.value(1),\n",
    ")\n",
    "\n",
    "# Create a scatter plot for diameter\n",
    "diameter_scatter = alt.Chart(df, title=\"Diameter vs Rings\").mark_circle().encode(\n",
    "  x=alt.X('diameter', title=\"Diameter (mm)\", scale=alt.Scale(domain=(0, 1.1))),\n",
    "  y=alt.Y('rings', title=\"Rings (count)\"),\n",
    "  color=alt.ColorValue('#D62828')\n",
    ").properties(\n",
    "  width=480,\n",
    "  height=300,\n",
    ")\n",
    "\n",
    "# Create a regression line for diameter\n",
    "diameter_scatter_regression = diameter_scatter.transform_regression(\n",
    "  'diameter',\n",
    "  'rings',\n",
    "  method='linear'\n",
    ").mark_line(strokeWidth=2.5).encode(\n",
    "  color=alt.ColorValue('#FFDC00'),\n",
    "  opacity=alt.value(1),\n",
    ")\n",
    "\n",
    "shell_weight_diameter_scatter_seperate = ((shell_weight_scatter + shell_weight_scatter_regression) |  (diameter_scatter + diameter_scatter_regression))\n",
    "shell_weight_diameter_scatter_seperate.save('assets/shell_weight_diameter_scatter_seperate.png', ppi=300)\n",
    "shell_weight_diameter_scatter_seperate"
   ]
  },
  {
   "cell_type": "markdown",
   "metadata": {},
   "source": [
    "From these scatter plots we can observe:\n",
    "- The positve correlation is again reinforced\n",
    "- Both scatter plots are denser towards the lower range indicating that abalone with a smaller weight and diameter might be represented more within the data set\n",
    "- Both scatter plots contain some outliers indicating that some abalone don't follow the general trend\n",
    "- Finally, the diameter vs rings plot seems to be tighter with less outliers potentially indicating that it might be a better predictor of rings"
   ]
  },
  {
   "cell_type": "markdown",
   "metadata": {},
   "source": [
    "4. Create histograms of the two most correlated features, and the ring-age. What are the major observations?  (2 Marks)"
   ]
  },
  {
   "cell_type": "code",
   "execution_count": null,
   "metadata": {},
   "outputs": [],
   "source": [
    "# Now lets take a look at a histogram of these correlated features vs rings\n",
    "\n",
    "# Create a histogram for shell_weight\n",
    "shell_weight_histogram = alt.Chart(df, title=\"Shell Weight vs Rings\").mark_bar().encode(\n",
    "  x=alt.X('shell_weight', title=\"Shell Weight (grams)\"),\n",
    "  y=alt.Y('count(rings):Q', title=\"Rings (count)\", scale=alt.Scale(domain=(0, 150))),\n",
    "  color=alt.ColorValue('#7BB2D9'),\n",
    ").properties(\n",
    "  width=480,\n",
    "  height=300\n",
    ")\n",
    "\n",
    "# Create a histogram for diameter\n",
    "diameter_histogram = alt.Chart(df, title=\"Diameter vs Rings\").mark_bar().encode(\n",
    "  x=alt.X('diameter', title=\"Diameter (mm)\"),\n",
    "  y=alt.Y('count(rings):Q', title=\"Rings (count)\", scale=alt.Scale(domain=(0, 150))),\n",
    "  color=alt.ColorValue('#D62828')\n",
    ").properties(\n",
    "  width=480,\n",
    "  height=300,\n",
    ")\n",
    "\n",
    "shell_weight_diameter_histogram_seperate = (shell_weight_histogram | diameter_histogram)\n",
    "shell_weight_diameter_histogram_seperate.save('assets/shell_weight_diameter_histogram_seperate.png', ppi=300)\n",
    "shell_weight_diameter_histogram_seperate"
   ]
  },
  {
   "cell_type": "markdown",
   "metadata": {},
   "source": [
    "From this we can observe:\n",
    "- The histogram of shell weight vs rings is broad, suggesting significant variability in shell weight within the population.\n",
    "- There is a noticeable right skew in the shell weight distribution, indicating a common range but with some instances of much heavier shells.\n",
    "- The diameter vs rings histogram, while also broad, is narrower compared to the shell weight distribution, which points to less variability in diameters.\n",
    "- The diameter distribution has steeper sides, which means that there are fewer extreme diameter values.\n",
    "- The diameter histogram is said to have a left skew; however, this contradicts the previous observation from the image provided, where the distribution actually appeared to be right-skewed."
   ]
  },
  {
   "cell_type": "code",
   "execution_count": null,
   "metadata": {},
   "outputs": [],
   "source": [
    "# Create a histogram for shell_weight\n",
    "shell_weight_histogram = alt.Chart(df, title=\"Shell Weight vs Rings\").mark_bar().encode(\n",
    "  x=alt.X('shell_weight', title=\"Shell Weight (grams)\"),\n",
    "  y=alt.Y('count(rings):Q', title=\"Rings (count)\", scale=alt.Scale(domain=(0, 150))),\n",
    "  color=alt.ColorValue('#7BB2D9'),\n",
    "  opacity=alt.value(0.35)\n",
    ").properties(\n",
    "  width=480,\n",
    "  height=300\n",
    ")\n",
    "\n",
    "# Create a histogram for diameter\n",
    "diameter_histogram = alt.Chart(df, title=\"Diameter vs Rings\").mark_bar().encode(\n",
    "  x=alt.X('diameter', title=\"Diameter (mm)\"),\n",
    "  y=alt.Y('count(rings):Q', title=\"Rings (count)\", scale=alt.Scale(domain=(0, 150))),\n",
    "  color=alt.ColorValue('#D62828'),\n",
    "  opacity=alt.value(0.35)\n",
    ").properties(\n",
    "  width=480,\n",
    "  height=300,\n",
    ")\n",
    "\n",
    "shell_weight_diameter_histogram_together = (diameter_histogram + shell_weight_histogram)\n",
    "shell_weight_diameter_histogram_together.save('assets/shell_weight_diameter_histogram_together.png', ppi=300)\n",
    "shell_weight_diameter_histogram_together"
   ]
  },
  {
   "cell_type": "markdown",
   "metadata": {},
   "source": [
    "Finally this superimposed visualisations again reinforces the differences between the two distributions."
   ]
  },
  {
   "cell_type": "markdown",
   "metadata": {},
   "source": [
    "5. Create a 60/40 train/test split - which takes a random seed based on the experiment number to create a new dataset for every experiment (2 Marks)."
   ]
  },
  {
   "cell_type": "code",
   "execution_count": null,
   "metadata": {},
   "outputs": [],
   "source": [
    "# Lets create a function that splits our data into a 60/40 train/test split\n",
    "# We also need to make sure the function can accept a random seed\n",
    "def get_train_test_split(df: pd.DataFrame, random_seed: int) -> tuple[pd.DataFrame, pd.DataFrame]:\n",
    "  \"\"\"\n",
    "  A function that splits our data into a 60/40 train/test split and accepts a random seed\n",
    "\n",
    "  Args:\n",
    "    df (pd.DataFrame): The dataframe to split\n",
    "    random_seed (int): The random seed to use for reproducibility and experimentation\n",
    "\n",
    "  Returns:\n",
    "    tuple[pd.DataFrame, pd.DataFrame]: A tuple containing the train and test dataframes respectively\n",
    "  \"\"\"\n",
    "  # Call the sklearn train_test_split function\n",
    "  return train_test_split(df, test_size=0.4, random_state=random_seed)"
   ]
  },
  {
   "cell_type": "markdown",
   "metadata": {},
   "source": [
    "Finally, before we move onto the modelling notebook - let's save our processed dataframe."
   ]
  },
  {
   "cell_type": "code",
   "execution_count": null,
   "metadata": {},
   "outputs": [],
   "source": [
    "# Save the dataframe to a parquet file\n",
    "df.to_parquet('data/abalone_processed.parquet')"
   ]
  }
 ],
 "metadata": {
  "kernelspec": {
   "display_name": "venv",
   "language": "python",
   "name": "python3"
  },
  "language_info": {
   "codemirror_mode": {
    "name": "ipython",
    "version": 3
   },
   "file_extension": ".py",
   "mimetype": "text/x-python",
   "name": "python",
   "nbconvert_exporter": "python",
   "pygments_lexer": "ipython3",
   "version": "3.10.12"
  }
 },
 "nbformat": 4,
 "nbformat_minor": 2
}
